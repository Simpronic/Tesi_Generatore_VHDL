{
  "nbformat": 4,
  "nbformat_minor": 0,
  "metadata": {
    "colab": {
      "provenance": []
    },
    "kernelspec": {
      "name": "python3",
      "display_name": "Python 3"
    },
    "language_info": {
      "name": "python"
    }
  },
  "cells": [
    {
      "cell_type": "markdown",
      "source": [
        "Appunti sul formato:\n",
        "\n",
        "Per il file di Analsi abbiamo che parte dall'indice 2 (se guardato dall'excel) invece qui parte dall'indice 0\n",
        "\n",
        "Quindi da 0-1 va aggiunto 2\n",
        "Dal 2 in poi va sottratto 2"
      ],
      "metadata": {
        "id": "0aw79fMwsyb0"
      }
    },
    {
      "cell_type": "code",
      "execution_count": 1,
      "metadata": {
        "id": "i9o__0uRKaxh"
      },
      "outputs": [],
      "source": [
        "import pandas as pd\n",
        "from datetime import datetime"
      ]
    },
    {
      "cell_type": "code",
      "source": [
        "def time_to_ms(time):\n",
        "  time_obj = datetime.strptime(time, \"%H:%M:%S\")\n",
        "  total_ms = (time_obj.hour * 3600 + time_obj.minute * 60 + time_obj.second) * 1000\n",
        "  return total_ms"
      ],
      "metadata": {
        "id": "KcM6fBgvLR_j"
      },
      "execution_count": null,
      "outputs": []
    },
    {
      "cell_type": "code",
      "source": [
        "def max_elab_time_and_rows(analisis_df):\n",
        "  elab_time_max = df[\"Time\"].max()\n",
        "  rows = df[df[\"Time\"] == elab_time_max][\"Righe\"]\n",
        "  return elab_time_max, rows"
      ],
      "metadata": {
        "id": "5uNhhJaL2FoL"
      },
      "execution_count": null,
      "outputs": []
    },
    {
      "cell_type": "code",
      "source": [
        "file_path = \"Tempi_di_valutazione_CodeGen.csv\"\n",
        "df = pd.read_csv(file_path, header=None, names=['Righe', 'Time'], quotechar='\"')"
      ],
      "metadata": {
        "id": "ZkGbXIX0KrcD"
      },
      "execution_count": null,
      "outputs": []
    },
    {
      "cell_type": "code",
      "source": [
        "print(df)"
      ],
      "metadata": {
        "colab": {
          "base_uri": "https://localhost:8080/"
        },
        "id": "pc2066MZ0ilw",
        "outputId": "470a4443-59e1-4ba0-e9cc-2662895c2082"
      },
      "execution_count": null,
      "outputs": [
        {
          "output_type": "stream",
          "name": "stdout",
          "text": [
            "                  Righe      Time\n",
            "0   236,237,238,239,240  10:32:41\n",
            "1   241,242,243,244,245   8:27:00\n",
            "2   246,247,248,249,250   8:15:04\n",
            "3   251,252,253,254,255   7:31:45\n",
            "4   256,257,258,259,260   9:12:47\n",
            "5   261,262,263,264,265   7:13:10\n",
            "6   266,267,268,269,270   8:40:39\n",
            "7   271,272,273,274,275   7:27:27\n",
            "8   276,277,279,281,283   5:02:30\n",
            "9   286,287,288,289,290   5:00:45\n",
            "10  291,292,294,295,296   5:05:58\n",
            "11  297,298,301,302,303   5:34:29\n",
            "12  304,305,306,307,308   5:17:24\n",
            "13  309,312,313,314,315   5:29:07\n",
            "14  316,317,318,319,320   5:31:19\n"
          ]
        }
      ]
    },
    {
      "cell_type": "code",
      "source": [
        "times = [time_to_ms(time) for time in df[\"Time\"]]\n",
        "df[\"Time\"] = times\n",
        "print(df[\"Time\"])\n",
        "\n",
        "print(df)"
      ],
      "metadata": {
        "colab": {
          "base_uri": "https://localhost:8080/"
        },
        "id": "vPxNBGonK5wT",
        "outputId": "f4ac2b93-6c06-4252-8e82-6030b7fa1f0e"
      },
      "execution_count": null,
      "outputs": [
        {
          "output_type": "stream",
          "name": "stdout",
          "text": [
            "0     37961000\n",
            "1     30420000\n",
            "2     29704000\n",
            "3     27105000\n",
            "4     33167000\n",
            "5     25990000\n",
            "6     31239000\n",
            "7     26847000\n",
            "8     18150000\n",
            "9     18045000\n",
            "10    18358000\n",
            "11    20069000\n",
            "12    19044000\n",
            "13    19747000\n",
            "14    19879000\n",
            "Name: Time, dtype: int64\n",
            "                  Righe      Time\n",
            "0   236,237,238,239,240  37961000\n",
            "1   241,242,243,244,245  30420000\n",
            "2   246,247,248,249,250  29704000\n",
            "3   251,252,253,254,255  27105000\n",
            "4   256,257,258,259,260  33167000\n",
            "5   261,262,263,264,265  25990000\n",
            "6   266,267,268,269,270  31239000\n",
            "7   271,272,273,274,275  26847000\n",
            "8   276,277,279,281,283  18150000\n",
            "9   286,287,288,289,290  18045000\n",
            "10  291,292,294,295,296  18358000\n",
            "11  297,298,301,302,303  20069000\n",
            "12  304,305,306,307,308  19044000\n",
            "13  309,312,313,314,315  19747000\n",
            "14  316,317,318,319,320  19879000\n"
          ]
        }
      ]
    },
    {
      "cell_type": "code",
      "source": [
        "df_Analisi = pd.read_excel(\"AnalisiCodeGen.xlsx\")"
      ],
      "metadata": {
        "id": "47MbmsJc1mBX"
      },
      "execution_count": null,
      "outputs": []
    },
    {
      "cell_type": "code",
      "source": [
        "elab_time_max,rows = max_elab_time_and_rows(df)\n",
        "\n",
        "print(elab_time_max)\n",
        "print(rows[0])\n",
        "\n",
        "rows = rows[0].split(\",\")\n",
        "\n",
        "rows = [int(r) for r in rows]"
      ],
      "metadata": {
        "colab": {
          "base_uri": "https://localhost:8080/"
        },
        "id": "pdl0FZs211vw",
        "outputId": "7200e2ab-96c6-446a-dea0-f3644d9af71d"
      },
      "execution_count": null,
      "outputs": [
        {
          "output_type": "stream",
          "name": "stdout",
          "text": [
            "37961000\n",
            "236,237,238,239,240\n"
          ]
        }
      ]
    },
    {
      "cell_type": "code",
      "source": [
        "for row in rows:\n",
        "  print(df_Analisi[\"IN\"][row-2])"
      ],
      "metadata": {
        "colab": {
          "base_uri": "https://localhost:8080/"
        },
        "id": "uixgE42Y29SQ",
        "outputId": "fd1fd1ef-3e00-438d-debe-d526dcba290d"
      },
      "execution_count": null,
      "outputs": [
        {
          "output_type": "stream",
          "name": "stdout",
          "text": [
            "Create a basic PWM (Pulse Width Modulation) generator with variable frequency\n",
            "Generate a CRC checker of N-bit with the signals data_in (N-bit), received_CRC (M-bit), and polynomial (M-bit) as input and the signal CRC_match as output.\n",
            "Define a fixed-point divider of N-bit with the signals dividend (N-bit) and divisor (N-bit) as input and the signals quotient (N-bit) and remainder (N-bit) as output.\n",
            "Write a 2-bit magnitude comparator with the signals A1, A0, B1, and B0 as input and the signals A_greater, A_equal, and A_smaller as output.\n",
            "Write a binary to gray converter of N-bit with the signal binary (N-bit) as input and the signal gray_code (N-bit) as output.\n"
          ]
        }
      ]
    },
    {
      "cell_type": "markdown",
      "source": [
        "Sezione dove analizzo l'aggiunte di blocchi di RAM/ROM a caso"
      ],
      "metadata": {
        "id": "CljlvkugXOFv"
      }
    },
    {
      "cell_type": "code",
      "source": [
        "CodeT5xlsx = \"AnalisiCodeT5_225.xlsx\"\n",
        "CodeGenxlsx = \"AnalisiCodeGen.xlsx\"\n",
        "\n",
        "df_code_T5 = pd.read_excel(CodeT5xlsx)\n",
        "df_code_gen = pd.read_excel(CodeGenxlsx)\n",
        "\n",
        "filtro_CodeGen =  df_code_gen[df_code_gen[\"HYPS\"].str.contains('ROM|RAM', case=False, na=False)]\n",
        "filtro_CodeT5 =  df_code_T5[df_code_T5[\"HYPS\"].str.contains('ROM|RAM', case=False, na=False)]"
      ],
      "metadata": {
        "id": "m3ydH_raXTdM"
      },
      "execution_count": null,
      "outputs": []
    },
    {
      "cell_type": "code",
      "source": [
        "#Tolgo le istanze dove mi è richiesta esplicitamente una ROM/RAM\n",
        "\n",
        "filtro_CodeGen2 = filtro_CodeGen[~filtro_CodeGen[\"IN\"].str.contains('ROM|RAM', case=False, na=False)]\n",
        "filtro_CodeT52 = filtro_CodeT5[~filtro_CodeT5[\"IN\"].str.contains('ROM|RAM', case=False, na=False)]\n",
        "\n",
        "print(len(filtro_CodeGen2[\"HYPS\"]))\n",
        "print(len(filtro_CodeT52[\"HYPS\"]))"
      ],
      "metadata": {
        "colab": {
          "base_uri": "https://localhost:8080/"
        },
        "id": "C_-A9VODYvIr",
        "outputId": "061580a6-0d21-426a-bd09-51341aacf305"
      },
      "execution_count": null,
      "outputs": [
        {
          "output_type": "stream",
          "name": "stdout",
          "text": [
            "5\n",
            "0\n"
          ]
        }
      ]
    },
    {
      "cell_type": "markdown",
      "source": [
        "Analisi di correlazione con le varie metriche"
      ],
      "metadata": {
        "id": "mLEmd3jhO-Yn"
      }
    },
    {
      "cell_type": "code",
      "source": [
        "from scipy.stats import spearmanr, kendalltau"
      ],
      "metadata": {
        "id": "FLUtGXYTPhMm"
      },
      "execution_count": null,
      "outputs": []
    },
    {
      "cell_type": "code",
      "source": [
        "metrics_name = [\"EM_M\",\"ED_M\",\"METEOR_M\"]"
      ],
      "metadata": {
        "id": "MMcEgs7NP5rS"
      },
      "execution_count": null,
      "outputs": []
    },
    {
      "cell_type": "code",
      "source": [
        "file_to_analize = \"AnalisiCodeGen.xlsx\"\n",
        "df_corr_file = pd.read_excel(file_to_analize)\n",
        "\n",
        "HE_M = df_corr_file[\"HUMAN_E\"]\n",
        "\n",
        "for metric in metrics_name:\n",
        "  print(f\"Analizyng {metric}...\")\n",
        "  spearman_corr, spearman_p_value = spearmanr(HE_M, df_corr_file[metric])\n",
        "  kendall_corr, kendall_p_value = kendalltau(HE_M, df_corr_file[metric])\n",
        "\n",
        "  print(\"Spearman Correlation:\", spearman_corr)\n",
        "  print(\"Spearman P-value:\", spearman_p_value)\n",
        "\n",
        "  print(\"Kendall Correlation:\", kendall_corr)\n",
        "  print(\"Kendall P-value:\", kendall_p_value)\n",
        "\n",
        "  print(\"\\n\\n\")\n"
      ],
      "metadata": {
        "colab": {
          "base_uri": "https://localhost:8080/"
        },
        "id": "JwAeaQZYO9Z4",
        "outputId": "f7a11297-078c-495a-87a4-a720d77a5c34"
      },
      "execution_count": null,
      "outputs": [
        {
          "output_type": "stream",
          "name": "stdout",
          "text": [
            "Analizyng EM_M...\n",
            "Spearman Correlation: 0.6452962288081903\n",
            "Spearman P-value: 8.800977306574105e-40\n",
            "Kendall Correlation: 0.6452962288081902\n",
            "Kendall P-value: 2.7928108702889407e-31\n",
            "\n",
            "\n",
            "\n",
            "Analizyng ED_M...\n",
            "Spearman Correlation: 0.6683094021166562\n",
            "Spearman P-value: 1.539219398119651e-43\n",
            "Kendall Correlation: 0.5828796191316977\n",
            "Kendall P-value: 1.9842621343292477e-33\n",
            "\n",
            "\n",
            "\n",
            "Analizyng METEOR_M...\n",
            "Spearman Correlation: 0.5903885742857747\n",
            "Spearman P-value: 5.254595486088146e-32\n",
            "Kendall Correlation: 0.48538321545072177\n",
            "Kendall P-value: 1.8720955948473932e-26\n",
            "\n",
            "\n",
            "\n"
          ]
        }
      ]
    },
    {
      "cell_type": "code",
      "source": [
        "input_prompt = []"
      ],
      "metadata": {
        "id": "arB1P5csZCDL"
      },
      "execution_count": null,
      "outputs": []
    },
    {
      "cell_type": "code",
      "source": [
        "with open(\"data.in\", \"r\") as file:\n",
        "    # Leggi il file riga per riga\n",
        "    for linea in file:\n",
        "        # Rimuove eventuali spazi bianchi (come newline) alla fine della riga\n",
        "        linea = linea.strip()\n",
        "        input_prompt.append(linea)"
      ],
      "metadata": {
        "id": "M5qMER6WVYTO"
      },
      "execution_count": null,
      "outputs": []
    },
    {
      "cell_type": "code",
      "source": [
        "category_distr = []"
      ],
      "metadata": {
        "id": "Sz_TYYJRZuwL"
      },
      "execution_count": null,
      "outputs": []
    },
    {
      "cell_type": "code",
      "source": [
        "with open(\"categories_distrib-new.txt\", \"r\") as file:\n",
        "    # Leggi il file riga per riga\n",
        "    for linea in file:\n",
        "        # Rimuove eventuali spazi bianchi (come newline) alla fine della riga\n",
        "        linea = linea.strip()\n",
        "        category_distr.append(linea)"
      ],
      "metadata": {
        "id": "DlSYwuDcZyvJ"
      },
      "execution_count": null,
      "outputs": []
    },
    {
      "cell_type": "code",
      "source": [
        "df = pd.DataFrame()\n",
        "df[\"Prompt\"] = input_prompt\n",
        "df[\"Category\"] = category_distr"
      ],
      "metadata": {
        "colab": {
          "base_uri": "https://localhost:8080/"
        },
        "id": "b3GzimD5Z7YL",
        "outputId": "8867d532-c4a6-40cb-f59a-a9fa31faaca1"
      },
      "execution_count": null,
      "outputs": [
        {
          "output_type": "stream",
          "name": "stdout",
          "text": [
            "                                                 Prompt Category\n",
            "0                      define the ieee standard library        1\n",
            "1          use the standard types from the ieee library        1\n",
            "2           use the numeric types from the ieee library        1\n",
            "3     use the mathematical functions of the ieee lib...        1\n",
            "4                                   define library work        1\n",
            "...                                                 ...      ...\n",
            "2990  run is a signal of type boolean initialized to...       30\n",
            "2991  define a signal of type std_logic called temp_...       30\n",
            "2992  On rising edge of clock_in, if reset is high, ...       30\n",
            "2993  u1 is a std_logic signal initialized to '0'; p...       30\n",
            "2994  Define a signal blocks as an array of data of ...       30\n",
            "\n",
            "[2995 rows x 2 columns]\n"
          ]
        }
      ]
    },
    {
      "cell_type": "code",
      "source": [
        "df.to_excel(\"DataInCateg.xlsx\",index=False)"
      ],
      "metadata": {
        "id": "8mg46xo8xdWU"
      },
      "execution_count": null,
      "outputs": []
    },
    {
      "cell_type": "markdown",
      "source": [
        "Crea il test file con le categorie"
      ],
      "metadata": {
        "id": "28Tftridybmm"
      }
    },
    {
      "cell_type": "code",
      "source": [
        "test_in_data = []"
      ],
      "metadata": {
        "id": "qOJHDx2Syq83"
      },
      "execution_count": null,
      "outputs": []
    },
    {
      "cell_type": "code",
      "source": [
        "with open(\"vhdl-test.in\", \"r\") as file:\n",
        "    # Leggi il file riga per riga\n",
        "    for linea in file:\n",
        "        # Rimuove eventuali spazi bianchi (come newline) alla fine della riga\n",
        "        linea = linea.strip()\n",
        "        test_in_data.append(linea)"
      ],
      "metadata": {
        "id": "7OoKoUMdybCt"
      },
      "execution_count": null,
      "outputs": []
    },
    {
      "cell_type": "code",
      "source": [
        "category_data_for_test = [0] * len(test_in_data)"
      ],
      "metadata": {
        "id": "foSN9_Vp0V-T"
      },
      "execution_count": null,
      "outputs": []
    },
    {
      "cell_type": "code",
      "source": [
        "print(df.loc[df[\"Prompt\"] == \"use of std_logic library\"].index.tolist())"
      ],
      "metadata": {
        "colab": {
          "base_uri": "https://localhost:8080/"
        },
        "id": "E-PBQdJp1Zmk",
        "outputId": "40b76b7d-a7f3-48d8-8f85-d82a0d7712e1"
      },
      "execution_count": null,
      "outputs": [
        {
          "output_type": "stream",
          "name": "stdout",
          "text": [
            "[837]\n"
          ]
        }
      ]
    },
    {
      "cell_type": "code",
      "source": [
        "for i in range(len(test_in_data)):\n",
        "  category_data_for_test[i] = df[\"Category\"][df.loc[df[\"Prompt\"] == test_in_data[i]].index.tolist()].to_list()[0]"
      ],
      "metadata": {
        "id": "vKeupcvmyZR2"
      },
      "execution_count": null,
      "outputs": []
    },
    {
      "cell_type": "code",
      "source": [
        "df_test_in = pd.DataFrame()\n",
        "df_test_in[\"Prompt\"] = test_in_data\n",
        "df_test_in[\"Category\"] = category_data_for_test"
      ],
      "metadata": {
        "id": "x9J39lQH0s2T"
      },
      "execution_count": null,
      "outputs": []
    },
    {
      "cell_type": "code",
      "source": [
        "print(df_test_in)"
      ],
      "metadata": {
        "colab": {
          "base_uri": "https://localhost:8080/"
        },
        "id": "36u5H1Pw05Ab",
        "outputId": "4566eab9-5bfe-41ce-9a46-7562855d4d0f"
      },
      "execution_count": null,
      "outputs": [
        {
          "output_type": "stream",
          "name": "stdout",
          "text": [
            "                                                Prompt Category\n",
            "0                           use of real math functions        1\n",
            "1    In this code, we use the 'techmap' library and...        1\n",
            "2                             use of std_logic library        1\n",
            "3                                  define library work        1\n",
            "4    generate 16 instances of sbox mapping each ins...       20\n",
            "..                                                 ...      ...\n",
            "321  Define a case statement on signal a, with case...       30\n",
            "322  Set data_1_o output to i_data_1_out when rst_n...       30\n",
            "323  map scl_i to t_scl; Encoder_onBoard is an enti...       30\n",
            "324  set i_cs_re_tk to '1' when i_cs_cpy signal is ...       30\n",
            "325  wait for 10 nanoseconds; cs_o is an output std...       30\n",
            "\n",
            "[326 rows x 2 columns]\n"
          ]
        }
      ]
    },
    {
      "cell_type": "code",
      "source": [
        "df_test_in.to_excel(\"TestInCateg.xlsx\",index=False)"
      ],
      "metadata": {
        "id": "iQ6zzdO50-ny"
      },
      "execution_count": null,
      "outputs": []
    },
    {
      "cell_type": "markdown",
      "source": [],
      "metadata": {
        "id": "M1afdThgpdkz"
      }
    },
    {
      "cell_type": "code",
      "source": [
        "!pip install pylcs"
      ],
      "metadata": {
        "colab": {
          "base_uri": "https://localhost:8080/"
        },
        "id": "oAfX4Lyg_a7Z",
        "outputId": "037f877b-6ddc-4d30-a056-e2261f505838"
      },
      "execution_count": 22,
      "outputs": [
        {
          "output_type": "stream",
          "name": "stdout",
          "text": [
            "Collecting pylcs\n",
            "  Downloading pylcs-0.1.1.tar.gz (11 kB)\n",
            "  Installing build dependencies ... \u001b[?25l\u001b[?25hdone\n",
            "  Getting requirements to build wheel ... \u001b[?25l\u001b[?25hdone\n",
            "  Preparing metadata (pyproject.toml) ... \u001b[?25l\u001b[?25hdone\n",
            "Collecting pybind11>=2.2 (from pylcs)\n",
            "  Using cached pybind11-2.13.6-py3-none-any.whl.metadata (9.5 kB)\n",
            "Using cached pybind11-2.13.6-py3-none-any.whl (243 kB)\n",
            "Building wheels for collected packages: pylcs\n",
            "  Building wheel for pylcs (pyproject.toml) ... \u001b[?25l\u001b[?25hdone\n",
            "  Created wheel for pylcs: filename=pylcs-0.1.1-cp310-cp310-linux_x86_64.whl size=1082156 sha256=0320785eed6cf33bcca67c53e64f5a1e9d84ada57d05db99ad5ecd0f79104bec\n",
            "  Stored in directory: /root/.cache/pip/wheels/eb/64/e8/c902162e883f432251466566e011016795ea03b95d4350d0ee\n",
            "Successfully built pylcs\n",
            "Installing collected packages: pybind11, pylcs\n",
            "Successfully installed pybind11-2.13.6 pylcs-0.1.1\n"
          ]
        }
      ]
    },
    {
      "cell_type": "code",
      "source": [
        "import pylcs\n",
        "import pandas as pd"
      ],
      "metadata": {
        "id": "whfNUhFD_XfJ"
      },
      "execution_count": 23,
      "outputs": []
    },
    {
      "cell_type": "code",
      "source": [
        "def calc_lcs(hyps, refs):\n",
        "\tprint(\"##### LCS #####\\n\")\n",
        "\tscores = []\n",
        "\tfor hyp, ref in zip(hyps, refs):\n",
        "\t\ttmp = pylcs.lcs_sequence_length(hyp, ref)\n",
        "\t\tres_norm = tmp/max(len(hyp),len(ref))\n",
        "\t\t#print(res_norm)\n",
        "\t\tscores.append(str(res_norm))\n",
        "\treturn scores\n"
      ],
      "metadata": {
        "id": "xHoXrmecu3mY"
      },
      "execution_count": 28,
      "outputs": []
    },
    {
      "cell_type": "code",
      "source": [
        "req_path = \"vhdl-test.in\"\n",
        "refs_path = \"vhdl-test.out\"\n",
        "model_output_path = \"hyps.txt\"\n",
        "excel_name = \"CodeT5.xlsx\"\n",
        "df = pd.DataFrame()\n",
        "in_text = []\n",
        "refs_text = []\n",
        "hyps_text = []\n",
        "with open(req_path, 'r') as file:\n",
        "    line = file.readline().strip()\n",
        "    while line:\n",
        "        in_text.append(line)\n",
        "        line = file.readline().strip()\n",
        "with open(refs_path, 'r') as file:\n",
        "    line = file.readline().strip()\n",
        "    while line:\n",
        "        refs_text.append(line)\n",
        "        line = file.readline().strip()\n",
        "with open(model_output_path, 'r') as file:\n",
        "    line = file.readline().strip()\n",
        "    while line:\n",
        "        hyps_text.append(line)\n",
        "        line = file.readline().strip()\n",
        "\n",
        "df['IN'] = in_text\n",
        "df['REFS'] = refs_text\n",
        "df['HYPS'] = hyps_text\n",
        "df['LCS_M'] = calc_lcs(hyps_text,refs_text)\n",
        "df.to_excel(excel_name,index=False)"
      ],
      "metadata": {
        "colab": {
          "base_uri": "https://localhost:8080/"
        },
        "id": "ffX9BvYP_il9",
        "outputId": "0634677d-6253-44e2-d931-3c5d4ed0166b"
      },
      "execution_count": 30,
      "outputs": [
        {
          "output_type": "stream",
          "name": "stdout",
          "text": [
            "##### LCS #####\n",
            "\n"
          ]
        }
      ]
    }
  ]
}